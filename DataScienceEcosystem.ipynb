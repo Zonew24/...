{
  "metadata": {
    "kernelspec": {
      "name": "python",
      "display_name": "Python (Pyodide)",
      "language": "python"
    },
    "language_info": {
      "codemirror_mode": {
        "name": "python",
        "version": 3
      },
      "file_extension": ".py",
      "mimetype": "text/x-python",
      "name": "python",
      "nbconvert_exporter": "python",
      "pygments_lexer": "ipython3",
      "version": "3.8"
    }
  },
  "nbformat_minor": 5,
  "nbformat": 4,
  "cells": [
    {
      "id": "6cf21ac9-9b61-483a-82b1-5a68903fdaf4",
      "cell_type": "markdown",
      "source": "# Data Science Tools and Ecosystem",
      "metadata": {}
    },
    {
      "id": "b681be7d-cdd8-4edc-8b66-0ede66578e66",
      "cell_type": "markdown",
      "source": "In this notebook, Data Science Tools and Ecosystem are summarized.",
      "metadata": {}
    },
    {
      "id": "e4dd32c1-915d-4fdd-85d6-9ade4bf11ea0",
      "cell_type": "markdown",
      "source": "Some of the popular languages that Data Scientists use are:\n1. Python  \n2. R  \n3. SQL",
      "metadata": {}
    },
    {
      "id": "9bce0578-b251-4775-802f-827f96f3bf28",
      "cell_type": "markdown",
      "source": "Some of the commonly used libraries used by Data Scientists include:\n1. Pandas  \n2. NumPy  \n3. Scikit-learn  ",
      "metadata": {}
    },
    {
      "id": "6b75ce20-1c56-4aef-8627-83690e3e61e2",
      "cell_type": "markdown",
      "source": "| Data Science Tools |\n|--------------------|\n| Jupyter Notebook  |\n| RStudio          |\n| Apache Zeppelin  |",
      "metadata": {}
    },
    {
      "id": "54bf3b4c-e044-4d9d-8071-a8b111aaa354",
      "cell_type": "markdown",
      "source": "### Below are a few examples of evaluating arithmetic expressions in Python.\n",
      "metadata": {}
    },
    {
      "id": "088aa14f-ea7c-41fe-ae76-f2136c12ae6c",
      "cell_type": "code",
      "source": "# This is a simple arithmetic expression to multiply then add integers\n(3*4) + 5  \n",
      "metadata": {
        "trusted": true
      },
      "outputs": [
        {
          "execution_count": 4,
          "output_type": "execute_result",
          "data": {
            "text/plain": "17"
          },
          "metadata": {}
        }
      ],
      "execution_count": 4
    },
    {
      "id": "0450b1f1-5883-4301-b322-d0246d5c0731",
      "cell_type": "code",
      "source": "# This will convert 200 minutes to hours by dividing by 60\n200 / 60  \n",
      "metadata": {
        "trusted": true
      },
      "outputs": [
        {
          "execution_count": 5,
          "output_type": "execute_result",
          "data": {
            "text/plain": "3.3333333333333335"
          },
          "metadata": {}
        }
      ],
      "execution_count": 5
    },
    {
      "id": "61100edb-0b4c-481c-9a0d-22160bf97847",
      "cell_type": "markdown",
      "source": "**Objectives:**  \n- List popular languages for Data Science  \n- Identify commonly used Data Science libraries  \n- Introduce open-source Data Science tools  \n- Perform simple arithmetic operations in Python  \n",
      "metadata": {}
    },
    {
      "id": "072404ca-e343-468f-b601-49079a5d08c7",
      "cell_type": "markdown",
      "source": "## Author  \nChristianne Madina \n",
      "metadata": {}
    },
    {
      "id": "2aff51e1-f15f-45b4-ba77-2a1d3d9b5416",
      "cell_type": "code",
      "source": "",
      "metadata": {
        "trusted": true
      },
      "outputs": [],
      "execution_count": null
    }
  ]
}